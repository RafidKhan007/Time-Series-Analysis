{
 "cells": [
  {
   "cell_type": "code",
   "execution_count": 1,
   "id": "de418167",
   "metadata": {},
   "outputs": [],
   "source": [
    "import pandas as pd\n",
    "import numpy as np\n",
    "import seaborn as sns\n",
    "from pandas import datetime\n",
    "from pandas import DataFrame\n",
    "import matplotlib.pyplot as plt\n",
    "import statsmodels.api as sm\n",
    "from statsmodels.tsa.seasonal import seasonal_decompose\n",
    "from statsmodels.tsa.stattools import adfuller\n",
    "from statsmodels.tsa.stattools import kpss\n",
    "from statsmodels.tsa.arima.model import ARIMA\n",
    "from sklearn.metrics import mean_squared_error\n",
    "from sklearn.metrics import mean_absolute_error\n",
    "from math import sqrt\n",
    "from pmdarima import auto_arima\n",
    "import warnings\n",
    "warnings.filterwarnings('ignore')"
   ]
  },
  {
   "cell_type": "code",
   "execution_count": 2,
   "id": "7d9bbc57",
   "metadata": {},
   "outputs": [],
   "source": [
    "production = pd.read_csv('new.csv', index_col='Date',parse_dates = True)"
   ]
  },
  {
   "cell_type": "code",
   "execution_count": 3,
   "id": "fe34d33c",
   "metadata": {},
   "outputs": [
    {
     "data": {
      "text/html": [
       "<div>\n",
       "<style scoped>\n",
       "    .dataframe tbody tr th:only-of-type {\n",
       "        vertical-align: middle;\n",
       "    }\n",
       "\n",
       "    .dataframe tbody tr th {\n",
       "        vertical-align: top;\n",
       "    }\n",
       "\n",
       "    .dataframe thead th {\n",
       "        text-align: right;\n",
       "    }\n",
       "</style>\n",
       "<table border=\"1\" class=\"dataframe\">\n",
       "  <thead>\n",
       "    <tr style=\"text-align: right;\">\n",
       "      <th></th>\n",
       "      <th>Production</th>\n",
       "    </tr>\n",
       "    <tr>\n",
       "      <th>Date</th>\n",
       "      <th></th>\n",
       "    </tr>\n",
       "  </thead>\n",
       "  <tbody>\n",
       "    <tr>\n",
       "      <th>1979-01-01</th>\n",
       "      <td>93</td>\n",
       "    </tr>\n",
       "    <tr>\n",
       "      <th>1980-01-01</th>\n",
       "      <td>2692</td>\n",
       "    </tr>\n",
       "    <tr>\n",
       "      <th>1981-01-01</th>\n",
       "      <td>4585</td>\n",
       "    </tr>\n",
       "    <tr>\n",
       "      <th>1982-01-01</th>\n",
       "      <td>4874</td>\n",
       "    </tr>\n",
       "    <tr>\n",
       "      <th>1983-01-01</th>\n",
       "      <td>4370</td>\n",
       "    </tr>\n",
       "    <tr>\n",
       "      <th>1984-01-01</th>\n",
       "      <td>6228</td>\n",
       "    </tr>\n",
       "    <tr>\n",
       "      <th>1985-01-01</th>\n",
       "      <td>7116</td>\n",
       "    </tr>\n",
       "    <tr>\n",
       "      <th>1986-01-01</th>\n",
       "      <td>8935</td>\n",
       "    </tr>\n",
       "    <tr>\n",
       "      <th>1987-01-01</th>\n",
       "      <td>9062</td>\n",
       "    </tr>\n",
       "    <tr>\n",
       "      <th>1988-01-01</th>\n",
       "      <td>9185</td>\n",
       "    </tr>\n",
       "    <tr>\n",
       "      <th>1989-01-01</th>\n",
       "      <td>9259</td>\n",
       "    </tr>\n",
       "    <tr>\n",
       "      <th>1990-01-01</th>\n",
       "      <td>9485</td>\n",
       "    </tr>\n",
       "    <tr>\n",
       "      <th>1991-01-01</th>\n",
       "      <td>7869</td>\n",
       "    </tr>\n",
       "    <tr>\n",
       "      <th>1992-01-01</th>\n",
       "      <td>8108</td>\n",
       "    </tr>\n",
       "    <tr>\n",
       "      <th>1993-01-01</th>\n",
       "      <td>9885</td>\n",
       "    </tr>\n",
       "    <tr>\n",
       "      <th>1994-01-01</th>\n",
       "      <td>12632</td>\n",
       "    </tr>\n",
       "    <tr>\n",
       "      <th>1995-01-01</th>\n",
       "      <td>15756</td>\n",
       "    </tr>\n",
       "    <tr>\n",
       "      <th>1996-01-01</th>\n",
       "      <td>13448</td>\n",
       "    </tr>\n",
       "    <tr>\n",
       "      <th>1997-01-01</th>\n",
       "      <td>15948</td>\n",
       "    </tr>\n",
       "    <tr>\n",
       "      <th>1998-01-01</th>\n",
       "      <td>13629</td>\n",
       "    </tr>\n",
       "    <tr>\n",
       "      <th>1999-01-01</th>\n",
       "      <td>11750</td>\n",
       "    </tr>\n",
       "    <tr>\n",
       "      <th>2000-01-01</th>\n",
       "      <td>17959</td>\n",
       "    </tr>\n",
       "    <tr>\n",
       "      <th>2001-01-01</th>\n",
       "      <td>26572</td>\n",
       "    </tr>\n",
       "    <tr>\n",
       "      <th>2002-01-01</th>\n",
       "      <td>41790</td>\n",
       "    </tr>\n",
       "    <tr>\n",
       "      <th>2003-01-01</th>\n",
       "      <td>47404</td>\n",
       "    </tr>\n",
       "    <tr>\n",
       "      <th>2004-01-01</th>\n",
       "      <td>61024</td>\n",
       "    </tr>\n",
       "    <tr>\n",
       "      <th>2005-01-01</th>\n",
       "      <td>51351</td>\n",
       "    </tr>\n",
       "    <tr>\n",
       "      <th>2006-01-01</th>\n",
       "      <td>48534</td>\n",
       "    </tr>\n",
       "    <tr>\n",
       "      <th>2007-01-01</th>\n",
       "      <td>49038</td>\n",
       "    </tr>\n",
       "    <tr>\n",
       "      <th>2008-01-01</th>\n",
       "      <td>40222</td>\n",
       "    </tr>\n",
       "    <tr>\n",
       "      <th>2009-01-01</th>\n",
       "      <td>44974</td>\n",
       "    </tr>\n",
       "    <tr>\n",
       "      <th>2010-01-01</th>\n",
       "      <td>65150</td>\n",
       "    </tr>\n",
       "    <tr>\n",
       "      <th>2011-01-01</th>\n",
       "      <td>80228</td>\n",
       "    </tr>\n",
       "    <tr>\n",
       "      <th>2012-01-01</th>\n",
       "      <td>90306</td>\n",
       "    </tr>\n",
       "    <tr>\n",
       "      <th>2013-01-01</th>\n",
       "      <td>110507</td>\n",
       "    </tr>\n",
       "    <tr>\n",
       "      <th>2014-01-01</th>\n",
       "      <td>119610</td>\n",
       "    </tr>\n",
       "    <tr>\n",
       "      <th>2015-01-01</th>\n",
       "      <td>185220</td>\n",
       "    </tr>\n",
       "    <tr>\n",
       "      <th>2016-01-01</th>\n",
       "      <td>356346</td>\n",
       "    </tr>\n",
       "    <tr>\n",
       "      <th>2017-01-01</th>\n",
       "      <td>567682</td>\n",
       "    </tr>\n",
       "    <tr>\n",
       "      <th>2018-01-01</th>\n",
       "      <td>728372</td>\n",
       "    </tr>\n",
       "    <tr>\n",
       "      <th>2019-01-01</th>\n",
       "      <td>943006</td>\n",
       "    </tr>\n",
       "    <tr>\n",
       "      <th>2020-01-01</th>\n",
       "      <td>1083514</td>\n",
       "    </tr>\n",
       "    <tr>\n",
       "      <th>2021-01-01</th>\n",
       "      <td>1348968</td>\n",
       "    </tr>\n",
       "  </tbody>\n",
       "</table>\n",
       "</div>"
      ],
      "text/plain": [
       "            Production\n",
       "Date                  \n",
       "1979-01-01          93\n",
       "1980-01-01        2692\n",
       "1981-01-01        4585\n",
       "1982-01-01        4874\n",
       "1983-01-01        4370\n",
       "1984-01-01        6228\n",
       "1985-01-01        7116\n",
       "1986-01-01        8935\n",
       "1987-01-01        9062\n",
       "1988-01-01        9185\n",
       "1989-01-01        9259\n",
       "1990-01-01        9485\n",
       "1991-01-01        7869\n",
       "1992-01-01        8108\n",
       "1993-01-01        9885\n",
       "1994-01-01       12632\n",
       "1995-01-01       15756\n",
       "1996-01-01       13448\n",
       "1997-01-01       15948\n",
       "1998-01-01       13629\n",
       "1999-01-01       11750\n",
       "2000-01-01       17959\n",
       "2001-01-01       26572\n",
       "2002-01-01       41790\n",
       "2003-01-01       47404\n",
       "2004-01-01       61024\n",
       "2005-01-01       51351\n",
       "2006-01-01       48534\n",
       "2007-01-01       49038\n",
       "2008-01-01       40222\n",
       "2009-01-01       44974\n",
       "2010-01-01       65150\n",
       "2011-01-01       80228\n",
       "2012-01-01       90306\n",
       "2013-01-01      110507\n",
       "2014-01-01      119610\n",
       "2015-01-01      185220\n",
       "2016-01-01      356346\n",
       "2017-01-01      567682\n",
       "2018-01-01      728372\n",
       "2019-01-01      943006\n",
       "2020-01-01     1083514\n",
       "2021-01-01     1348968"
      ]
     },
     "execution_count": 3,
     "metadata": {},
     "output_type": "execute_result"
    }
   ],
   "source": [
    "production.head(45)"
   ]
  },
  {
   "cell_type": "code",
   "execution_count": 4,
   "id": "17572944",
   "metadata": {},
   "outputs": [
    {
     "data": {
      "text/plain": [
       "Production\n",
       "False         43\n",
       "dtype: int64"
      ]
     },
     "execution_count": 4,
     "metadata": {},
     "output_type": "execute_result"
    }
   ],
   "source": [
    "production.isnull().value_counts()"
   ]
  },
  {
   "cell_type": "code",
   "execution_count": 5,
   "id": "2fffca9a",
   "metadata": {},
   "outputs": [
    {
     "name": "stdout",
     "output_type": "stream",
     "text": [
      "Production    int64\n",
      "dtype: object\n"
     ]
    }
   ],
   "source": [
    "print (production.dtypes)"
   ]
  },
  {
   "cell_type": "code",
   "execution_count": 6,
   "id": "557aa281",
   "metadata": {},
   "outputs": [
    {
     "data": {
      "image/png": "[encoded data removed]",
      "text/plain": [
       "<Figure size 1080x576 with 1 Axes>"
      ]
     },
     "metadata": {
      "needs_background": "light"
     },
     "output_type": "display_data"
    }
   ],
   "source": [
    "plt.figure(figsize=(15,8))\n",
    "plt.plot(production.Production)\n",
    "plt.title('Total Production (Inland+Import) of LPG from 1979 to 2021 ', fontsize=20)\n",
    "plt.ylabel('Production (Metric Tonnes)', fontsize=16)\n",
    "for year in range(1979,2022):\n",
    "    plt.axvline(pd.to_datetime(str(year)+'-01-01'), color='k', linestyle='--', alpha=0.2)"
   ]
  },
  {
   "cell_type": "code",
   "execution_count": 7,
   "id": "febadb03",
   "metadata": {},
   "outputs": [
    {
     "data": {
      "image/png": "[encoded data removed]",
      "text/plain": [
       "<Figure size 432x288 with 4 Axes>"
      ]
     },
     "metadata": {
      "needs_background": "light"
     },
     "output_type": "display_data"
    }
   ],
   "source": [
    "result = seasonal_decompose(production['Production'])\n",
    "result.plot();"
   ]
  },
  {
   "cell_type": "code",
   "execution_count": 8,
   "id": "cb9d6830",
   "metadata": {},
   "outputs": [
    {
     "data": {
      "image/png": "[encoded data removed]",
      "text/plain": [
       "<Figure size 432x288 with 1 Axes>"
      ]
     },
     "execution_count": 8,
     "metadata": {},
     "output_type": "execute_result"
    },
    {
     "data": {
      "image/png": "[encoded data removed]",
      "text/plain": [
       "<Figure size 432x288 with 1 Axes>"
      ]
     },
     "metadata": {
      "needs_background": "light"
     },
     "output_type": "display_data"
    }
   ],
   "source": [
    "sm.graphics.tsa.plot_acf(production.values.squeeze(), lags=20)"
   ]
  },
  {
   "cell_type": "code",
   "execution_count": 9,
   "id": "a9d67529",
   "metadata": {},
   "outputs": [
    {
     "data": {
      "image/png": "[encoded data removed]",
      "text/plain": [
       "<Figure size 432x288 with 1 Axes>"
      ]
     },
     "execution_count": 9,
     "metadata": {},
     "output_type": "execute_result"
    },
    {
     "data": {
      "image/png": "[encoded data removed]",
      "text/plain": [
       "<Figure size 432x288 with 1 Axes>"
      ]
     },
     "metadata": {
      "needs_background": "light"
     },
     "output_type": "display_data"
    }
   ],
   "source": [
    "sm.graphics.tsa.plot_pacf(production.values.squeeze(), lags=20)"
   ]
  },
  {
   "cell_type": "code",
   "execution_count": 10,
   "id": "25ec758d",
   "metadata": {},
   "outputs": [],
   "source": [
    "#Augmented Dickey Fuller Test"
   ]
  },
  {
   "cell_type": "code",
   "execution_count": 11,
   "id": "6d159546",
   "metadata": {},
   "outputs": [
    {
     "name": "stdout",
     "output_type": "stream",
     "text": [
      "ADF Statistic: 2.710172\n",
      "P value: 0.999087\n",
      "Critical Values:\n",
      "\t1%: -3.639\n",
      "\t5%: -2.951\n",
      "\t10%: -2.614\n"
     ]
    }
   ],
   "source": [
    "ADF = production.values\n",
    "result = adfuller(ADF)\n",
    "print('ADF Statistic: %f' % result[0])\n",
    "print('P value: %f' % result[1])\n",
    "print('Critical Values:')\n",
    "for key, value in result[4].items():\n",
    "    print('\\t%s: %.3f' % (key, value))"
   ]
  },
  {
   "cell_type": "code",
   "execution_count": 12,
   "id": "6b231e11",
   "metadata": {},
   "outputs": [],
   "source": [
    "##Kwiatkowski Phillips Schmidt Shin (KPSS) Test"
   ]
  },
  {
   "cell_type": "code",
   "execution_count": 13,
   "id": "7915937c",
   "metadata": {
    "scrolled": true
   },
   "outputs": [
    {
     "name": "stdout",
     "output_type": "stream",
     "text": [
      "KPSS Statistic: 0.399673\n",
      "P value: 0.077296\n",
      "Number of Lags: 10.000000\n",
      "Critical Values:\n",
      "\t10%: 0.347\n",
      "\t5%: 0.463\n",
      "\t2.5%: 0.574\n",
      "\t1%: 0.739\n"
     ]
    }
   ],
   "source": [
    "KPSS = production.values\n",
    "result = kpss(KPSS)\n",
    "print('KPSS Statistic: %f' % result[0])\n",
    "print('P value: %f' % result[1])\n",
    "print('Number of Lags: %f'% result[2])\n",
    "print('Critical Values:')\n",
    "for key, value in result[3].items():\n",
    "    print('\\t%s: %.3f' % (key, value))"
   ]
  },
  {
   "cell_type": "code",
   "execution_count": 14,
   "id": "55d4f96a",
   "metadata": {},
   "outputs": [],
   "source": [
    "##This is stationary because p value of KPSS is greater than .05"
   ]
  },
  {
   "cell_type": "code",
   "execution_count": 15,
   "id": "9377834e",
   "metadata": {},
   "outputs": [
    {
     "name": "stdout",
     "output_type": "stream",
     "text": [
      "Performing stepwise search to minimize aic\n",
      " ARIMA(2,2,2)(0,0,0)[0]             : AIC=971.553, Time=0.12 sec\n",
      " ARIMA(0,2,0)(0,0,0)[0]             : AIC=971.212, Time=0.01 sec\n",
      " ARIMA(1,2,0)(0,0,0)[0]             : AIC=970.413, Time=0.01 sec\n",
      " ARIMA(0,2,1)(0,0,0)[0]             : AIC=971.797, Time=0.01 sec\n",
      " ARIMA(2,2,0)(0,0,0)[0]             : AIC=968.829, Time=0.01 sec\n",
      " ARIMA(3,2,0)(0,0,0)[0]             : AIC=inf, Time=0.06 sec\n",
      " ARIMA(2,2,1)(0,0,0)[0]             : AIC=968.877, Time=0.09 sec\n",
      " ARIMA(1,2,1)(0,0,0)[0]             : AIC=968.094, Time=0.06 sec\n",
      " ARIMA(1,2,2)(0,0,0)[0]             : AIC=969.314, Time=0.11 sec\n",
      " ARIMA(0,2,2)(0,0,0)[0]             : AIC=972.100, Time=0.02 sec\n",
      " ARIMA(1,2,1)(0,0,0)[0] intercept   : AIC=968.090, Time=0.05 sec\n",
      " ARIMA(0,2,1)(0,0,0)[0] intercept   : AIC=971.755, Time=0.01 sec\n",
      " ARIMA(1,2,0)(0,0,0)[0] intercept   : AIC=970.023, Time=0.01 sec\n",
      " ARIMA(2,2,1)(0,0,0)[0] intercept   : AIC=969.244, Time=0.10 sec\n",
      " ARIMA(1,2,2)(0,0,0)[0] intercept   : AIC=969.839, Time=0.10 sec\n",
      " ARIMA(0,2,0)(0,0,0)[0] intercept   : AIC=971.574, Time=0.01 sec\n",
      " ARIMA(0,2,2)(0,0,0)[0] intercept   : AIC=973.101, Time=0.02 sec\n",
      " ARIMA(2,2,0)(0,0,0)[0] intercept   : AIC=969.384, Time=0.02 sec\n",
      " ARIMA(2,2,2)(0,0,0)[0] intercept   : AIC=inf, Time=nan sec\n",
      "\n",
      "Best model:  ARIMA(1,2,1)(0,0,0)[0] intercept\n",
      "Total fit time: 1.032 seconds\n"
     ]
    }
   ],
   "source": [
    "check_arima = auto_arima(production['Production'], trace = True,suppress_warnings = True)"
   ]
  },
  {
   "cell_type": "code",
   "execution_count": 16,
   "id": "e67183e0",
   "metadata": {},
   "outputs": [
    {
     "data": {
      "text/html": [
       "<table class=\"simpletable\">\n",
       "<caption>SARIMAX Results</caption>\n",
       "<tr>\n",
       "  <th>Dep. Variable:</th>           <td>y</td>        <th>  No. Observations:  </th>    <td>43</td>   \n",
       "</tr>\n",
       "<tr>\n",
       "  <th>Model:</th>           <td>SARIMAX(1, 2, 1)</td> <th>  Log Likelihood     </th> <td>-480.045</td>\n",
       "</tr>\n",
       "<tr>\n",
       "  <th>Date:</th>            <td>Fri, 14 Oct 2022</td> <th>  AIC                </th>  <td>968.090</td>\n",
       "</tr>\n",
       "<tr>\n",
       "  <th>Time:</th>                <td>22:38:29</td>     <th>  BIC                </th>  <td>974.944</td>\n",
       "</tr>\n",
       "<tr>\n",
       "  <th>Sample:</th>                  <td>0</td>        <th>  HQIC               </th>  <td>970.586</td>\n",
       "</tr>\n",
       "<tr>\n",
       "  <th></th>                       <td> - 43</td>      <th>                     </th>     <td> </td>   \n",
       "</tr>\n",
       "<tr>\n",
       "  <th>Covariance Type:</th>        <td>opg</td>       <th>                     </th>     <td> </td>   \n",
       "</tr>\n",
       "</table>\n",
       "<table class=\"simpletable\">\n",
       "<tr>\n",
       "      <td></td>         <th>coef</th>     <th>std err</th>      <th>z</th>      <th>P>|z|</th>  <th>[0.025</th>    <th>0.975]</th>  \n",
       "</tr>\n",
       "<tr>\n",
       "  <th>intercept</th> <td> 8013.3173</td> <td> 9292.300</td> <td>    0.862</td> <td> 0.388</td> <td>-1.02e+04</td> <td> 2.62e+04</td>\n",
       "</tr>\n",
       "<tr>\n",
       "  <th>ar.L1</th>     <td>   -0.9995</td> <td>    0.308</td> <td>   -3.250</td> <td> 0.001</td> <td>   -1.602</td> <td>   -0.397</td>\n",
       "</tr>\n",
       "<tr>\n",
       "  <th>ma.L1</th>     <td>    0.6303</td> <td>    0.381</td> <td>    1.656</td> <td> 0.098</td> <td>   -0.116</td> <td>    1.376</td>\n",
       "</tr>\n",
       "<tr>\n",
       "  <th>sigma2</th>    <td> 9.066e+08</td> <td>    0.488</td> <td> 1.86e+09</td> <td> 0.000</td> <td> 9.07e+08</td> <td> 9.07e+08</td>\n",
       "</tr>\n",
       "</table>\n",
       "<table class=\"simpletable\">\n",
       "<tr>\n",
       "  <th>Ljung-Box (L1) (Q):</th>     <td>0.30</td>  <th>  Jarque-Bera (JB):  </th> <td>106.02</td>\n",
       "</tr>\n",
       "<tr>\n",
       "  <th>Prob(Q):</th>                <td>0.58</td>  <th>  Prob(JB):          </th>  <td>0.00</td> \n",
       "</tr>\n",
       "<tr>\n",
       "  <th>Heteroskedasticity (H):</th> <td>94.83</td> <th>  Skew:              </th>  <td>2.12</td> \n",
       "</tr>\n",
       "<tr>\n",
       "  <th>Prob(H) (two-sided):</th>    <td>0.00</td>  <th>  Kurtosis:          </th>  <td>9.64</td> \n",
       "</tr>\n",
       "</table><br/><br/>Warnings:<br/>[1] Covariance matrix calculated using the outer product of gradients (complex-step).<br/>[2] Covariance matrix is singular or near-singular, with condition number 1.78e+24. Standard errors may be unstable."
      ],
      "text/plain": [
       "<class 'statsmodels.iolib.summary.Summary'>\n",
       "\"\"\"\n",
       "                               SARIMAX Results                                \n",
       "==============================================================================\n",
       "Dep. Variable:                      y   No. Observations:                   43\n",
       "Model:               SARIMAX(1, 2, 1)   Log Likelihood                -480.045\n",
       "Date:                Fri, 14 Oct 2022   AIC                            968.090\n",
       "Time:                        22:38:29   BIC                            974.944\n",
       "Sample:                             0   HQIC                           970.586\n",
       "                                 - 43                                         \n",
       "Covariance Type:                  opg                                         \n",
       "==============================================================================\n",
       "                 coef    std err          z      P>|z|      [0.025      0.975]\n",
       "------------------------------------------------------------------------------\n",
       "intercept   8013.3173   9292.300      0.862      0.388   -1.02e+04    2.62e+04\n",
       "ar.L1         -0.9995      0.308     -3.250      0.001      -1.602      -0.397\n",
       "ma.L1          0.6303      0.381      1.656      0.098      -0.116       1.376\n",
       "sigma2      9.066e+08      0.488   1.86e+09      0.000    9.07e+08    9.07e+08\n",
       "===================================================================================\n",
       "Ljung-Box (L1) (Q):                   0.30   Jarque-Bera (JB):               106.02\n",
       "Prob(Q):                              0.58   Prob(JB):                         0.00\n",
       "Heteroskedasticity (H):              94.83   Skew:                             2.12\n",
       "Prob(H) (two-sided):                  0.00   Kurtosis:                         9.64\n",
       "===================================================================================\n",
       "\n",
       "Warnings:\n",
       "[1] Covariance matrix calculated using the outer product of gradients (complex-step).\n",
       "[2] Covariance matrix is singular or near-singular, with condition number 1.78e+24. Standard errors may be unstable.\n",
       "\"\"\""
      ]
     },
     "execution_count": 16,
     "metadata": {},
     "output_type": "execute_result"
    }
   ],
   "source": [
    "check_arima.summary()"
   ]
  },
  {
   "cell_type": "code",
   "execution_count": 17,
   "id": "5f000b32",
   "metadata": {
    "scrolled": false
   },
   "outputs": [],
   "source": [
    "model = ARIMA(production, order=(1,2,1))\n",
    "fitted = model.fit()"
   ]
  },
  {
   "cell_type": "code",
   "execution_count": 18,
   "id": "d91c3c4e",
   "metadata": {},
   "outputs": [
    {
     "name": "stdout",
     "output_type": "stream",
     "text": [
      "                               SARIMAX Results                                \n",
      "==============================================================================\n",
      "Dep. Variable:             Production   No. Observations:                   43\n",
      "Model:                 ARIMA(1, 2, 1)   Log Likelihood                -481.047\n",
      "Date:                Fri, 14 Oct 2022   AIC                            968.094\n",
      "Time:                        22:38:29   BIC                            973.235\n",
      "Sample:                    01-01-1979   HQIC                           969.966\n",
      "                         - 01-01-2021                                         \n",
      "Covariance Type:                  opg                                         \n",
      "==============================================================================\n",
      "                 coef    std err          z      P>|z|      [0.025      0.975]\n",
      "------------------------------------------------------------------------------\n",
      "ar.L1         -0.9999      0.265     -3.780      0.000      -1.518      -0.481\n",
      "ma.L1          0.6435      0.310      2.079      0.038       0.037       1.250\n",
      "sigma2      9.719e+08   6.85e-10   1.42e+18      0.000    9.72e+08    9.72e+08\n",
      "===================================================================================\n",
      "Ljung-Box (L1) (Q):                   0.23   Jarque-Bera (JB):               102.25\n",
      "Prob(Q):                              0.63   Prob(JB):                         0.00\n",
      "Heteroskedasticity (H):            1398.51   Skew:                             2.09\n",
      "Prob(H) (two-sided):                  0.00   Kurtosis:                         9.51\n",
      "===================================================================================\n",
      "\n",
      "Warnings:\n",
      "[1] Covariance matrix calculated using the outer product of gradients (complex-step).\n",
      "[2] Covariance matrix is singular or near-singular, with condition number 3.43e+33. Standard errors may be unstable.\n"
     ]
    }
   ],
   "source": [
    "print(fitted.summary())"
   ]
  },
  {
   "cell_type": "markdown",
   "id": "b177c5a9",
   "metadata": {},
   "source": []
  },
  {
   "cell_type": "code",
   "execution_count": 19,
   "id": "0472dab5",
   "metadata": {},
   "outputs": [
    {
     "data": {
      "image/png": "[encoded data removed]",
      "text/plain": [
       "<Figure size 432x288 with 1 Axes>"
      ]
     },
     "metadata": {
      "needs_background": "light"
     },
     "output_type": "display_data"
    }
   ],
   "source": [
    "residuals = DataFrame(fitted.resid)\n",
    "residuals.plot()\n",
    "plt.show()"
   ]
  },
  {
   "cell_type": "code",
   "execution_count": 20,
   "id": "b951a617",
   "metadata": {},
   "outputs": [
    {
     "data": {
      "image/png": "[encoded data removed]",
      "text/plain": [
       "<Figure size 432x288 with 1 Axes>"
      ]
     },
     "metadata": {
      "needs_background": "light"
     },
     "output_type": "display_data"
    }
   ],
   "source": [
    "residuals.plot(kind='kde')\n",
    "plt.show()"
   ]
  },
  {
   "cell_type": "code",
   "execution_count": 21,
   "id": "d25846a5",
   "metadata": {},
   "outputs": [
    {
     "name": "stdout",
     "output_type": "stream",
     "text": [
      "                   0\n",
      "count      43.000000\n",
      "mean     6467.712273\n",
      "std     28951.917017\n",
      "min    -50547.364413\n",
      "25%     -2652.313446\n",
      "50%       617.500489\n",
      "75%      5165.050175\n",
      "max    129584.707553\n"
     ]
    }
   ],
   "source": [
    "print(residuals.describe())"
   ]
  },
  {
   "cell_type": "code",
   "execution_count": 22,
   "id": "421c1a18",
   "metadata": {},
   "outputs": [],
   "source": [
    "new = production.values\n",
    "size = int(len(new) * 0.66)\n",
    "train, test = new[0:size], new[size:len(new)]\n",
    "history = [x for x in train]\n",
    "predictions = list()"
   ]
  },
  {
   "cell_type": "code",
   "execution_count": 23,
   "id": "af16e20a",
   "metadata": {},
   "outputs": [
    {
     "name": "stdout",
     "output_type": "stream",
     "text": [
      "predicted=35943.05, expected=49038.00\n",
      "predicted=48209.70, expected=40222.00\n",
      "predicted=36338.02, expected=44974.00\n",
      "predicted=41708.08, expected=65150.00\n",
      "predicted=72268.65, expected=80228.00\n",
      "predicted=87931.87, expected=90306.00\n",
      "predicted=96207.96, expected=110507.00\n",
      "predicted=124048.54, expected=119610.00\n",
      "predicted=127522.76, expected=185220.00\n",
      "predicted=210376.13, expected=356346.00\n",
      "predicted=627153.41, expected=567682.00\n",
      "predicted=780120.04, expected=728372.00\n",
      "predicted=855007.82, expected=943006.00\n",
      "predicted=1189869.50, expected=1083514.00\n",
      "predicted=1222547.91, expected=1348968.00\n"
     ]
    }
   ],
   "source": [
    "for t in range(len(test)):\n",
    "    model = ARIMA(history, order=(1,2,1))\n",
    "    fitted = model.fit()\n",
    "    output = fitted.forecast()\n",
    "    yhat = output[0]\n",
    "    predictions.append(yhat)\n",
    "    obs = test[t]\n",
    "    history.append(obs)\n",
    "    print('predicted=%.2f, expected=%.2f' % (yhat, obs))\n",
    "    #print(output)"
   ]
  },
  {
   "cell_type": "code",
   "execution_count": 24,
   "id": "ad3d6f9d",
   "metadata": {},
   "outputs": [
    {
     "data": {
      "image/png": "[encoded data removed]",
      "text/plain": [
       "<Figure size 432x288 with 1 Axes>"
      ]
     },
     "metadata": {
      "needs_background": "light"
     },
     "output_type": "display_data"
    }
   ],
   "source": [
    "plt.plot(test, color ='blue', marker= '+')\n",
    "plt.plot(predictions, color='red', marker = '*')\n",
    "plt.show()"
   ]
  },
  {
   "cell_type": "code",
   "execution_count": 25,
   "id": "855965c0",
   "metadata": {},
   "outputs": [
    {
     "data": {
      "text/plain": [
       "array([1361059.56187828, 1499386.18229815, 1637647.24756601,\n",
       "       1775885.08719024, 1914114.69816264, 2052341.39379232,\n",
       "       2190567.05654039, 2328792.35334712])"
      ]
     },
     "execution_count": 25,
     "metadata": {},
     "output_type": "execute_result"
    }
   ],
   "source": [
    "fitted.predict(43,50, exog=None, dynamic=False)"
   ]
  },
  {
   "cell_type": "code",
   "execution_count": 26,
   "id": "88373326",
   "metadata": {},
   "outputs": [
    {
     "name": "stdout",
     "output_type": "stream",
     "text": [
      "Test RMSE: 66853.387\n"
     ]
    }
   ],
   "source": [
    "rmse = sqrt(mean_squared_error(test, predictions))\n",
    "print('Test RMSE: %.3f' % rmse)"
   ]
  }
 ],
 "metadata": {
  "kernelspec": {
   "display_name": "Python 3",
   "language": "python",
   "name": "python3"
  },
  "language_info": {
   "codemirror_mode": {
    "name": "ipython",
    "version": 3
   },
   "file_extension": ".py",
   "mimetype": "text/x-python",
   "name": "python",
   "nbconvert_exporter": "python",
   "pygments_lexer": "ipython3",
   "version": "3.6.13"
  }
 },
 "nbformat": 4,
 "nbformat_minor": 5
}
